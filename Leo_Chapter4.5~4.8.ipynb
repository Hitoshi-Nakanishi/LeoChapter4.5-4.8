{
 "cells": [
  {
   "cell_type": "markdown",
   "metadata": {
    "slideshow": {
     "slide_type": "slide"
    }
   },
   "source": [
    "# Leo Chapter 4.5 ~ 4.8\n",
    "\n",
    "### 2015 / 5 / 12 (火) \n",
    "\n",
    "## 中西 均"
   ]
  },
  {
   "cell_type": "markdown",
   "metadata": {
    "slideshow": {
     "slide_type": "slide"
    }
   },
   "source": [
    "## 4.5.1 測定データからの平均値と誤差\n",
    "単純なものの長さの測定データから、その平均値(の推定値)と誤差(平均値の分散)を表示することを考える。"
   ]
  },
  {
   "cell_type": "code",
   "execution_count": 2,
   "metadata": {
    "collapsed": false,
    "slideshow": {
     "slide_type": "subslide"
    }
   },
   "outputs": [],
   "source": [
    "%matplotlib inline\n",
    "import numpy as np\n",
    "import math\n",
    "import pandas as pd\n",
    "import pylab as pl"
   ]
  },
  {
   "cell_type": "code",
   "execution_count": 3,
   "metadata": {
    "collapsed": false,
    "slideshow": {
     "slide_type": "subslide"
    }
   },
   "outputs": [
    {
     "name": "stdout",
     "output_type": "stream",
     "text": [
      "[ 17.62   17.62   17.615  17.62   17.61   17.61   17.62   17.625  17.62\n",
      "  17.62   17.61   17.615  17.61   17.605  17.61 ]\n"
     ]
    }
   ],
   "source": [
    "datum = np.array([17.62, 17.62, 17.615, 17.62, 17.61,\n",
    "                                 17.61, 17.62, 17.625, 17.62, 17.62,\n",
    "                                  17.61, 17.615, 17.61, 17.605, 17.61])\n",
    "print datum"
   ]
  },
  {
   "cell_type": "markdown",
   "metadata": {
    "slideshow": {
     "slide_type": "subslide"
    }
   },
   "source": [
    "ものの測定データは正規分布に従っていると仮定する。\n",
    "\n",
    "そこで平均の推定量は次のように計算される。\n",
    "\n",
    "$$ \\bar{x} = \\hat{\\mu} = \\frac{1}{n} \\sum x_i $$\n",
    "\n",
    "同様に標準偏差の推定量は次のように計算される。\n",
    "\n",
    "$$ \\hat{\\sigma} = \\frac{\\sum (x_i - \\bar{x})^2}{n -1} $$\n",
    "\n",
    "推定量の標準偏差について、\n",
    "$$ \\sigma(\\bar{x}) = \\frac{\\sigma}{\\sqrt{n}} $$\n",
    "が言えて、\n",
    "$$ \\sigma(\\bar{x}) = \\frac{\\hat{\\sigma}}{\\sqrt{n}} $$\n",
    "と計算して求めることができる。"
   ]
  },
  {
   "cell_type": "code",
   "execution_count": 4,
   "metadata": {
    "collapsed": false,
    "slideshow": {
     "slide_type": "subslide"
    }
   },
   "outputs": [
    {
     "name": "stdout",
     "output_type": "stream",
     "text": [
      "Mean=17.615, STD=0.00581,Mean_STD=0.0015\n"
     ]
    }
   ],
   "source": [
    "mean = round(np.mean(datum,dtype=np.float32),3)\n",
    "std = round(np.std(datum, ddof=1,dtype=np.float32), 5)\n",
    "mean_std = round(std/math.sqrt(15), 5)\n",
    "print \"Mean={0}, STD={1},Mean_STD={2}\".format(mean, std, mean_std)"
   ]
  },
  {
   "cell_type": "markdown",
   "metadata": {
    "slideshow": {
     "slide_type": "slide"
    }
   },
   "source": [
    "## 4.5.2 異なる誤差のデータの組み合わせ\n",
    "ミューオンの寿命測定のデータを元に、その平均寿命の推定値を求めてみる。"
   ]
  },
  {
   "cell_type": "code",
   "execution_count": 5,
   "metadata": {
    "collapsed": false,
    "slideshow": {
     "slide_type": "subslide"
    }
   },
   "outputs": [
    {
     "data": {
      "text/html": [
       "<div style=\"max-height:1000px;max-width:1500px;overflow:auto;\">\n",
       "<table border=\"1\" class=\"dataframe\">\n",
       "  <thead>\n",
       "    <tr style=\"text-align: right;\">\n",
       "      <th></th>\n",
       "      <th>error</th>\n",
       "      <th>lifetime</th>\n",
       "    </tr>\n",
       "  </thead>\n",
       "  <tbody>\n",
       "    <tr>\n",
       "      <th>0</th>\n",
       "      <td> 0.001</td>\n",
       "      <td> 2.1980</td>\n",
       "    </tr>\n",
       "    <tr>\n",
       "      <th>1</th>\n",
       "      <td> 0.004</td>\n",
       "      <td> 2.2030</td>\n",
       "    </tr>\n",
       "    <tr>\n",
       "      <th>2</th>\n",
       "      <td> 0.003</td>\n",
       "      <td> 2.2020</td>\n",
       "    </tr>\n",
       "    <tr>\n",
       "      <th>3</th>\n",
       "      <td> 0.005</td>\n",
       "      <td> 2.1970</td>\n",
       "    </tr>\n",
       "    <tr>\n",
       "      <th>4</th>\n",
       "      <td> 0.002</td>\n",
       "      <td> 2.1980</td>\n",
       "    </tr>\n",
       "    <tr>\n",
       "      <th>5</th>\n",
       "      <td> 0.002</td>\n",
       "      <td> 2.1966</td>\n",
       "    </tr>\n",
       "    <tr>\n",
       "      <th>6</th>\n",
       "      <td> 0.001</td>\n",
       "      <td> 2.1948</td>\n",
       "    </tr>\n",
       "  </tbody>\n",
       "</table>\n",
       "</div>"
      ],
      "text/plain": [
       "   error  lifetime\n",
       "0  0.001    2.1980\n",
       "1  0.004    2.2030\n",
       "2  0.003    2.2020\n",
       "3  0.005    2.1970\n",
       "4  0.002    2.1980\n",
       "5  0.002    2.1966\n",
       "6  0.001    2.1948"
      ]
     },
     "execution_count": 5,
     "metadata": {},
     "output_type": "execute_result"
    }
   ],
   "source": [
    "MuonDF = pd.DataFrame({\"lifetime\":[2.198, 2.203, 2.202, 2.197, 2.198, 2.1966, 2.1948],\n",
    "                                               \"error\":[0.001, 0.004, 0.003, 0.005, 0.002, 0.0020, 0.0010]\n",
    "                                            })\n",
    "MuonDF"
   ]
  },
  {
   "cell_type": "markdown",
   "metadata": {
    "slideshow": {
     "slide_type": "subslide"
    }
   },
   "source": [
    "崩壊現象であり、指数関数分布に従っていると仮定する。\n",
    "\n",
    "重み付きの平均値の計算方法は、次の式を用いる。\n",
    "\n",
    "$$ \\hat{\\mu} = \\frac{\\sum \\frac{x_i}{\\sigma_i^2}}{\\sum \\frac{1}{\\sigma_i^2}} $$\n",
    "\n",
    "また推定量の標準偏差(誤差)は、次の式を用いる。\n",
    "\n",
    "$$ \\sigma^2 (\\hat{\\mu}) =  \\frac{1}{\\sum \\frac{1}{\\sigma_i^2}} $$"
   ]
  },
  {
   "cell_type": "code",
   "execution_count": 6,
   "metadata": {
    "collapsed": false,
    "slideshow": {
     "slide_type": "subslide"
    }
   },
   "outputs": [
    {
     "name": "stdout",
     "output_type": "stream",
     "text": [
      "estimated mean lifetime is 2.19696\n",
      "estimated mean lifetime std is 3.7e-07\n"
     ]
    }
   ],
   "source": [
    "estimated_mean_lifetime = sum(map(lambda i: MuonDF.lifetime[i]/ pow(MuonDF.error[i],2), range(len(MuonDF.lifetime) ) ) )\\\n",
    "                                              / sum(map(lambda i: 1.0 / pow(MuonDF.error[i],2), range(len(MuonDF.lifetime) ) ) )\n",
    "estimated_mean_lifetime_std = 1.0 / sum(map(lambda i: 1.0/pow(MuonDF.error[i],2), range(len(MuonDF.lifetime) ) ) )\n",
    "print \"estimated mean lifetime is %s\" % round(estimated_mean_lifetime,5)\n",
    "print \"estimated mean lifetime std is %s\" % round(estimated_mean_lifetime_std,8)"
   ]
  },
  {
   "cell_type": "markdown",
   "metadata": {
    "slideshow": {
     "slide_type": "slide"
    }
   },
   "source": [
    "## 4.5.3 計数率とその誤差の決定\n",
    "与えられたNa線源からの計数率の測定値からその評価を行うことを考える。"
   ]
  },
  {
   "cell_type": "code",
   "execution_count": 7,
   "metadata": {
    "collapsed": false,
    "slideshow": {
     "slide_type": "subslide"
    }
   },
   "outputs": [
    {
     "name": "stdout",
     "output_type": "stream",
     "text": [
      "[2201 2145 2222 2160 2300]\n"
     ]
    }
   ],
   "source": [
    "na_source_datum = np.array([2201,2145,2222,2160,2300])\n",
    "print na_source_datum"
   ]
  },
  {
   "cell_type": "markdown",
   "metadata": {
    "slideshow": {
     "slide_type": "subslide"
    }
   },
   "source": [
    "Na線源からの計数率なので、指数分布(Poisson分布)に従っていると仮定する。\n",
    "\n",
    "$$ \\hat{\\mu} = \\bar{x} $$\n",
    "\n",
    "$$ \\sigma(\\hat{\\mu}) = \\sqrt{\\frac{\\bar{x}}{n}} $$\n",
    "\n",
    "でそれぞれ計算する。"
   ]
  },
  {
   "cell_type": "code",
   "execution_count": 8,
   "metadata": {
    "collapsed": false,
    "slideshow": {
     "slide_type": "subslide"
    }
   },
   "outputs": [
    {
     "name": "stdout",
     "output_type": "stream",
     "text": [
      "Mean=2205,\n",
      "Mean_STD=21\n"
     ]
    }
   ],
   "source": [
    "mean = int(np.mean(na_source_datum))\n",
    "mean_std = int(math.sqrt(mean/5))\n",
    "print \"Mean={0},\\nMean_STD={1}\".format(mean, mean_std)"
   ]
  },
  {
   "cell_type": "markdown",
   "metadata": {
    "slideshow": {
     "slide_type": "slide"
    }
   },
   "source": [
    "## 4.5.4 帰無実験: 計数がない場合の信頼区間の設定\n",
    "理論の有効性を示す方法として、理論的に禁止された崩壊モードや反応を探す実験が行われる。\n",
    "\n",
    "理論的に禁止された観測がされなかった事実を、理論の有効性を表す信頼区間として与える方法を示す。\n",
    "\n",
    "崩壊定数$\\lambda$の指数分布に従う崩壊現象について、時間Tの間に崩壊が行われない確率は、\n",
    "\n",
    "$$ P(0 | \\lambda) = \\exp(- \\lambda T) $$で表される。\n",
    "\n",
    "これは$\\lambda$の関数として、読み替えることができる。\n",
    "\n",
    "$\\lambda$が$\\lambda_0$より小さいという条件の元での確率を計算すると、\n",
    "\n",
    "$$ P(\\lambda \\leq \\lambda_0 ) = \\int^\\lambda_0 T \\exp(- \\lambda T) d \\lambda = 1 - \\exp(- \\lambda_0 T) $$\n",
    "\n",
    "となる。\n",
    "\n",
    "信頼度90%といった、ある信頼度CLなる信頼区間を$(0, \\lambda_0)$として考えると、$\\lambda_0$は、\n",
    "\n",
    "$$\\lambda_0 = -\\frac{1}{T} \\ln(1 - CL)$$\n",
    "\n",
    "として決まる。\n",
    "\n",
    "### 例4.4\n",
    "50g の$^{82}Se$からニュートリノが出ないダブルベータ崩壊事象について、100日間調べる実験を行う。検出器の効率は20%とする。\n",
    "\n",
    "このとき、この崩壊モードの崩壊定数の上限はいくらだろうか。"
   ]
  },
  {
   "cell_type": "code",
   "execution_count": 9,
   "metadata": {
    "collapsed": false,
    "slideshow": {
     "slide_type": "subslide"
    }
   },
   "outputs": [
    {
     "name": "stdout",
     "output_type": "stream",
     "text": [
      "lambda0: 0.115 /day\n",
      "true lambda0: 3.13e-25 /day\n",
      "decay time: 8.75e+21 /year\n"
     ]
    }
   ],
   "source": [
    "lambda0 = round(- 1 / (100 * 0.2) * math.log(1 - 0.9), 3)\n",
    "print \"lambda0: {0} /day\".format(lambda0)\n",
    "# 核子からの実際の崩壊率は、核子数から計算することができる。\n",
    "avogadro_num = 6.02214129 * pow(10,23)\n",
    "nucleus_num = avogadro_num / 82 * 50\n",
    "true_lambda0 = round(lambda0/nucleus_num, 27)\n",
    "print \"true lambda0: {0} /day\".format(true_lambda0)\n",
    "# 崩壊時間を計算する。\n",
    "decay_time = round(1/true_lambda0 / 365, -19)\n",
    "print \"decay time: {0} /year\".format(decay_time)"
   ]
  },
  {
   "cell_type": "markdown",
   "metadata": {
    "slideshow": {
     "slide_type": "slide"
    }
   },
   "source": [
    "### 例4.5\n",
    "Nこの電気信号をパルスジェネレーターからおくり、実際に観測したパルスの数を保存するという実験を考える。\n",
    "\n",
    "ここでNこのパルス中、rこ観測する確率は検出効率を$\\epsilon$とすると2項分布から、\n",
    "\n",
    "$$ P(N,r) = \\frac{N!}{(N-r)!r!}\\epsilon^r (1-\\epsilon)^{N-r} $$\n",
    "\n",
    "と分かる。Nこ全て観測できる確率は、\n",
    "\n",
    "$$ P(N,N) = \\epsilon^N $$\n",
    "\n",
    "とかける。さて、この確率を$\\epsilon$について規格化すると、\n",
    "\n",
    "$$P(\\epsilon) = (N+1)\\epsilon^N$$\n",
    "\n",
    "信頼区間CLのもとで、下限$\\epsilon_0$が定まるとすると、\n",
    "\n",
    "$$ CL = \\int^1_{\\epsilon_0} P(\\epsilon)d\\epsilon = 1- \\epsilon_0^{N+1} $$\n",
    "\n",
    "$$ \\epsilon_0 = (1 - CL)^{1/(N+1)} $$\n",
    "\n",
    "さて、\n",
    "N=100を仮定して、95%の信頼区間のもとでの検出効率の下限を求めると次のようになる。"
   ]
  },
  {
   "cell_type": "code",
   "execution_count": 10,
   "metadata": {
    "collapsed": false,
    "slideshow": {
     "slide_type": "subslide"
    }
   },
   "outputs": [
    {
     "name": "stdout",
     "output_type": "stream",
     "text": [
      "efficiency low level is 0.9708\n"
     ]
    }
   ],
   "source": [
    "N = 100\n",
    "epsilon0 = round(pow(1-0.95,1.0/(N+1)),4)\n",
    "print \"efficiency low level is {0}\".format(epsilon0)"
   ]
  },
  {
   "cell_type": "markdown",
   "metadata": {
    "slideshow": {
     "slide_type": "slide"
    }
   },
   "source": [
    "## 4.5.5 計数間での時間間隔の決定\n",
    "4.5.4 帰無実験で示したので省略。\n",
    "\n",
    "計数の間で時間Tが起こる確率は、\n",
    "\n",
    "$$ P(T) = \\lambda \\exp(- \\lambda T)  $$\n",
    "\n",
    "と書き表される。"
   ]
  },
  {
   "cell_type": "markdown",
   "metadata": {
    "collapsed": true,
    "slideshow": {
     "slide_type": "slide"
    }
   },
   "source": [
    "# 4.6 誤差の伝播\n",
    "直接観測した物理量に対する誤差の評価は前節で行った。\n",
    "誤差付きの値から新しく誤差付きの物理量を計算する際に現れる誤差伝搬について説明する。\n",
    "$ u = f(\\bar{x},\\bar{y})$に対する分散を計算する。\n",
    "$$ \\sigma^2_u = E[(u - \\bar{u})^2] $$\n",
    "一次近似のもとでは、$\\bar{u} = f(\\bar{x},{y})$と考えることができるので、\n",
    "$$ (u - \\bar{u}) \\simeq (x - \\bar{x}) \\left. \\frac{\\partial f }{\\partial x} \\right|_{\\bar{x}} + (y - \\bar{y}) \\left. \\frac{\\partial f }{\\partial y} \\right|_{\\bar{y}} $$\n",
    "と展開する事ができる。\n",
    "分散を計算すると、\n",
    "$$ E[(u - \\bar{u})^2] \\simeq E \\left[ (x - \\bar{x})^2 \\left( \\frac{\\partial f }{\\partial x} \\right)^2 + (y - \\bar{y})^2 \\left( \\frac{\\partial f }{\\partial y} \\right)^2 + 2(x - \\bar{x})(y - \\bar{y}) \\frac{\\partial f }{\\partial x} \\frac{\\partial f }{\\partial y} \\right] $$\n",
    "と得ることができる。\n",
    "従って、\n",
    "$$ \\sigma^2_u \\simeq \\left( \\frac{\\partial f }{\\partial x} \\right)^2 \\sigma^2_x + \\left( \\frac{\\partial f }{\\partial y} \\right)^2\\sigma^2_y + 2cov(x,y) \\frac{\\partial f }{\\partial x} \\frac{\\partial f }{\\partial y} $$\n",
    "となる。よって誤差はそれぞれの分散に付け足して、共分散も関わってくる。"
   ]
  },
  {
   "cell_type": "markdown",
   "metadata": {
    "slideshow": {
     "slide_type": "slide"
    }
   },
   "source": [
    "## 4.6.1 例\n",
    "1. 和の誤差: $u = x+y$\n",
    "$$ \\sigma^2_u = \\sigma^2_x + \\sigma^2_y + 2cov(x,y)$$\n",
    "2. 差の誤差: $u = x - y$\n",
    "$$ \\sigma^2_u = \\sigma^2_x + \\sigma^2_y - 2cov(x,y)$$\n",
    "一般に誤差伝搬を行って得た誤差は実際に観測した誤差よりも大きくなってしまいがちである。\n",
    "3. 積の誤差: $u =xy$\n",
    "$$ \\frac{\\sigma^2_u}{u^2} \\simeq \\frac{\\sigma^2_x}{x^2} +\\frac{\\sigma^2_y}{y^2} + 2\\frac{cov(x,y)}{xy}$$\n",
    "4. 商の誤差: $u = x/y$\n",
    "$$ \\frac{\\sigma^2_u}{u^2} \\simeq \\frac{\\sigma^2_x}{x^2} +\\frac{\\sigma^2_y}{y^2} - 2\\frac{cov(x,y)}{xy}$$"
   ]
  },
  {
   "cell_type": "markdown",
   "metadata": {
    "slideshow": {
     "slide_type": "slide"
    }
   },
   "source": [
    "#### 例4.6\n",
    "陽子や中性子の偏極を測定するための古典的方法として散乱分布の非対称度を求めることが重要である。\n",
    "$$ \\epsilon = \\frac{R - L}{R + L}$$\n",
    "さて、計数$R$,$L$の誤差に対する非対称度$A$の誤差を計算しよう。\n",
    "\n",
    "$$ \\frac{\\partial \\epsilon}{\\partial R} = \\frac{1}{R + L} - \\frac{R - L}{(R+L)^2} = \\frac{2L}{N_{tot}^2} $$\n",
    "\n",
    "$$ \\frac{\\partial \\epsilon}{\\partial L} = -\\frac{1}{R + L} - \\frac{R - L}{(R+L)^2} = \\frac{-2R}{N_{tot}^2} $$\n",
    "ここで$ N_{tot} = R + L $とおいた。\n",
    "\n",
    "$$ \\sigma^2(\\epsilon) \\simeq \\frac{4L^2}{N^4_{tot}} \\sigma^2_R + \\frac{4R^2}{N^4_{tot}} \\sigma^2_L = 4 \\frac{RL}{N^3_{tot}} $$\n",
    "\n",
    "と求めることができる。\n",
    "ここで、2つめの等号では、Poisson分布では分散と平均が等しいことを用いた。\n",
    "非対称度が小さいとすると、$ R \\simeq L \\simeq N_{tot}/2 $が言えて、\n",
    "\n",
    "$$ \\sigma(\\epsilon) \\simeq \\sqrt{\\frac{1}{N_{tot} } } $$\n",
    "と計算される。"
   ]
  },
  {
   "cell_type": "markdown",
   "metadata": {
    "slideshow": {
     "slide_type": "slide"
    }
   },
   "source": [
    "# 4.7 曲線フィット\n",
    "## 4.7.1 最小二乗法\n",
    "n点の測定$x_i$から観測量$y_i$を$\\sigma_i$で誤差付きで取得する実験を考える。\n",
    "またこの測定結果を$f(x; a_1, a_2, ... , a_m) $でフィットする。\n",
    "さてこのフィットがよくなるような、パラメータ$a_j$の定め方は、次のS($\\chi^2$)を最小とするように取るのが、**最小二乗法**。\n",
    "$$ S= \\sum^n_{i =1} \\left[ \\frac{y_i - f(x_i; a_j)}{\\sigma_i} \\right]^2 $$\n",
    "最小となる$a_j$を求めるため、偏微分を行う。\n",
    "$$ \\frac{\\partial S}{\\partial a_j} = 0 $$\n",
    "これから求まる方程式を解くことで得る。\n",
    "\n",
    "また、2回偏微分から**error matrix**と呼ばれる分散共分散行列が作成される。\n",
    "$$ (V^{-1}_{ij}) = \\frac{1}{2} \\frac{\\partial^2 S}{\\partial a_i \\partial a_j} $$"
   ]
  },
  {
   "cell_type": "markdown",
   "metadata": {
    "collapsed": true,
    "slideshow": {
     "slide_type": "slide"
    }
   },
   "source": [
    "## 4.7.2 直線近似\n",
    "a,bをパラメータとして$ y = f(x) = ax+b $で近似する場合を考える。\n",
    "$$S = \\sum \\frac{(y_i -ax_i - b)^2}{\\sigma_i^2}$$\n",
    "について最小となるようなa,bの値を求める。\n",
    "最小となる条件は\n",
    "$$ \\frac{\\partial S}{\\partial a} = -2 \\sum \\frac{(y_i -ax_i - b)x_i}{\\sigma_i^2} = 0 $$\n",
    "\n",
    "$$ \\frac{\\partial S}{\\partial b} = -2 \\sum \\frac{y_i -ax_i - b)}{\\sigma_i^2} = 0 $$\n",
    "\n",
    "簡単のため、\n",
    "$ A = \\sum \\frac{x_i}{\\sigma_i^2} $,   $ B = \\sum \\frac{1}{\\sigma_i^2} $,   $ C = \\sum \\frac{y_i}{\\sigma_i^2} $,\n",
    "$ D = \\sum \\frac{x_i^2}{\\sigma_i^2} $,   $ E = \\sum \\frac{x_i y_i}{\\sigma_i^2} $,   $ F = \\sum \\frac{y_i^2}{\\sigma_i^2} $\n",
    "\n",
    "とおくと、\n",
    "$$ a = \\frac{EB - CA}{DB - A^2} $$\n",
    "\n",
    "$$ b = \\frac{DC - EA}{DB - A^2} $$\n",
    "\n",
    "と表すことができる。\n",
    "error matrixを計算する。\n",
    "$$ V^{-1} = \\left( \n",
    "\\begin{array}{cc}\n",
    "A_{11} & A_{12} \\\\\n",
    "A_{21} & A_{22} \\\\\n",
    "\\end{array}\n",
    "\\right) $$\n",
    "\n",
    "$$ A_{11} = \\frac{1}{2} \\frac{\\partial^2 S}{\\partial a^2} = D, A_{22} = \\frac{1}{2}\\frac{\\partial^2 S}{\\partial b^2} = B, A_{12} = A_{21} = \\frac{1}{2}\\frac{\\partial^2 S}{\\partial a \\partial b} = A $$\n",
    "\n",
    "これから、\n",
    "\n",
    "$$ V = \\frac{1}{A_{11}A_{22} - A_{12}^2}\n",
    "\\left( \\begin{array}{cc}\n",
    "A_{22} & - A_{21} \\\\\n",
    "- A_{12} & A_{11} \\\\\n",
    "\\end{array} \\right) \\\\\n",
    "= \\left( \\begin{array}{cc}\n",
    "\\sigma^2(a) & cov(a,b) \\\\\n",
    "cov(a,b) & \\sigma^2(b) \\\\\n",
    "\\end{array} \\right) =\\left(\\begin{array}{cc}\n",
    "\\frac{B}{BD - A^2} & \\frac{- A}{BD - A^2} \\\\\n",
    "\\frac{- A}{BD - A^2} & \\frac{D}{BD - A^2} \\\\\n",
    "\\end{array} \\right) $$\n",
    "とerror matrixが求まる。\n",
    "\n",
    "データが求める関数に対応していて、Gaussianであるとするならば、Sは自由度$\\mu$の$\\chi^2$分布に従うことになる。\n",
    "この自由度$\\mu$の$\\chi^2$分布は、平均$\\mu$である分布である。\n",
    "よって、reduced chi-squareと呼ばれる\n",
    "$$ \\frac{\\chi^2}{\\mu} = \\frac{S}{\\mu} $$\n",
    "が1に近いほど、よいフィットと考えることができる。\n"
   ]
  },
  {
   "cell_type": "markdown",
   "metadata": {
    "slideshow": {
     "slide_type": "subslide"
    }
   },
   "source": [
    "#### 例 4.7\n",
    "6つの測定データxと誤差付きの観測値yにフィットする直線関数を求める。\n",
    "結果、reduced chi-squareを考えることで、フィットを確かめる事ができる。\n",
    "\n",
    "#### 例 4.8\n",
    "同じように崩壊現象についても式変形から直線関数のフィットの問題として考える事ができる。\n",
    "$$ \\ln{N} = - \\frac{t}{\\tau} + \\ln{N_0} $$\n",
    "ここで誤差は、Poisson分布から$\\sigma(N) = \\sqrt(N)$\n",
    "であったので、誤差の伝播則を用いて、\n",
    "\n",
    "$$ \\sigma^2 (\\ln N) = \\frac{\\partial \\ln N}{\\partial N} = \\frac{1}{N}$$\n",
    "と計算される。\n",
    "次のような放射線源からのデータについてフィッティングすることで、寿命を計算することができる。\n",
    "\n",
    "背景事象の計量も含めて、\n",
    "$$ N(t) = N_0 \\exp(-t/\\tau) + C $$\n",
    "のような式で一般にフィッティングする場合も多々ある。\n",
    "\n",
    "この場合は、フィッティングは非線形な手法で行うことになる。\n"
   ]
  },
  {
   "cell_type": "code",
   "execution_count": 11,
   "metadata": {
    "collapsed": false,
    "slideshow": {
     "slide_type": "subslide"
    }
   },
   "outputs": [
    {
     "name": "stdout",
     "output_type": "stream",
     "text": [
      "Example 4.7\n",
      "   x      y  error\n",
      "0  0   0.92   0.50\n",
      "1  1   4.15   1.00\n",
      "2  2   9.78   0.75\n",
      "3  3  14.46   1.25\n",
      "4  4  17.26   1.00\n",
      "5  5  21.90   1.50\n",
      "\n",
      "each variables were calculated.\n",
      " A = 12.6978\n",
      " B = 8.8622\n",
      " C = 61.4644\n",
      " D = 40.9822\n",
      " E = 184.3932\n",
      "\n"
     ]
    }
   ],
   "source": [
    "print \"Example 4.7\"\n",
    "measurements = [[0, 0.92, 0.5],[1, 4.15, 1.0],[2, 9.78, 0.75],[3, 14.46, 1.25],[4, 17.26, 1.0],[5, 21.90, 1.5]]\n",
    "MeasurementDF = pd.DataFrame(measurements, columns=[\"x\", \"y\", \"error\"])\n",
    "print MeasurementDF\n",
    "A = round(sum(map(lambda i: MeasurementDF.x[i]/pow(MeasurementDF.error[i],2), range( len(MeasurementDF.x) ) ) ), 4)\n",
    "B = round(sum(map(lambda i: 1.0/pow(MeasurementDF.error[i],2), range( len(MeasurementDF.x) ) ) ), 4)\n",
    "C = round(sum(map(lambda i: MeasurementDF.y[i]/pow(MeasurementDF.error[i],2), range( len(MeasurementDF.x) ) ) ), 4)\n",
    "D = round(sum(map(lambda i: pow(MeasurementDF.x[i],2)/pow(MeasurementDF.error[i],2), range( len(MeasurementDF.x) ) ) ), 4)\n",
    "E = round(sum(map(lambda i: MeasurementDF.x[i]*MeasurementDF.y[i]/pow(MeasurementDF.error[i],2), range( len(MeasurementDF.x) ) ) ), 4)\n",
    "print \"\\neach variables were calculated.\\n A = {0}\\n B = {1}\\n C = {2}\\n D = {3}\\n E = {4}\\n\".format(A,B,C,D,E)"
   ]
  },
  {
   "cell_type": "code",
   "execution_count": 12,
   "metadata": {
    "collapsed": false,
    "slideshow": {
     "slide_type": "subslide"
    }
   },
   "outputs": [
    {
     "name": "stdout",
     "output_type": "stream",
     "text": [
      "a= 4.227,   b= 0.879\n",
      "\n",
      "sigma_a= 0.044,   sigma_b= 0.203,  cov_ab = -0.063 \n",
      "\n"
     ]
    }
   ],
   "source": [
    "a = round((E*B - C*A)/(D*B - A*A), 3)\n",
    "b = round((D*C - E*A)/(D*B - A*A), 3)\n",
    "print \"a= %s,   b= %s\\n\" % (a,b)\n",
    "sigma_a = round(B/(D*B - A*A), 3)\n",
    "sigma_b = round(D/(D*B - A*A), 3)\n",
    "cov_ab = round(-A/(D*B - A*A), 3)\n",
    "print \"sigma_a= %s,   sigma_b= %s,  cov_ab = %s \\n\" % (sigma_a,sigma_b, cov_ab)"
   ]
  },
  {
   "cell_type": "code",
   "execution_count": 13,
   "metadata": {
    "collapsed": false,
    "slideshow": {
     "slide_type": "subslide"
    }
   },
   "outputs": [
    {
     "name": "stdout",
     "output_type": "stream",
     "text": [
      "chi square is 2.0778\n",
      " reduced chi square is 0.51945\n"
     ]
    }
   ],
   "source": [
    "chi_square = round(sum(map(lambda i: pow((MeasurementDF.y[i] - a*MeasurementDF.x[i]- b),2)/pow(MeasurementDF.error[i],2), range( len(MeasurementDF.x) ) ) ), 4)\n",
    "reduced_chi_square = chi_square/(len(MeasurementDF.x)-2)\n",
    "print \"chi square is %s\\n reduced chi square is %s\" % (chi_square, reduced_chi_square)"
   ]
  },
  {
   "cell_type": "code",
   "execution_count": 14,
   "metadata": {
    "collapsed": false,
    "slideshow": {
     "slide_type": "subslide"
    }
   },
   "outputs": [
    {
     "data": {
      "text/plain": [
       "<matplotlib.text.Text at 0x112abcb90>"
      ]
     },
     "execution_count": 14,
     "metadata": {},
     "output_type": "execute_result"
    },
    {
     "data": {
      "image/png": "[encoded data removed]",
      "text/plain": [
       "<matplotlib.figure.Figure at 0x112abcf50>"
      ]
     },
     "metadata": {},
     "output_type": "display_data"
    }
   ],
   "source": [
    "x = np.arange(-1, 6)\n",
    "y = a * x + b\n",
    "MeasurementDF.plot(kind='scatter', x='x', y='y')\n",
    "pl.plot(x, y)\n",
    "pl.text(2, 0, 'y = {0} x + {1}'.format(a,b), ha = 'center', va = 'bottom')"
   ]
  },
  {
   "cell_type": "markdown",
   "metadata": {
    "slideshow": {
     "slide_type": "subslide"
    }
   },
   "source": [
    "## 4.7.3 2変数が共に誤差を持つ線形近似\n",
    "$$ \\sigma_i \\rightarrow \\sigma^2_y + \\left( \\frac{d f}{d x} \\right)^2 \\sigma_x^2 $$\n",
    "のようにして置き換えると、導いた式を用いて線形近似を行うことができる。"
   ]
  },
  {
   "cell_type": "markdown",
   "metadata": {
    "collapsed": true,
    "slideshow": {
     "slide_type": "slide"
    }
   },
   "source": [
    "## 4.7.4 非線形近似\n",
    "非線形近似の方法として歴史的に各種考案されてきた。ただし全ての関数に適した近似方法はないため、関数ごとに調べる必要がある。\n",
    "\n",
    "非線形近似では数値的解析が必要となる。これは2つに大別される。"
   ]
  },
  {
   "cell_type": "markdown",
   "metadata": {
    "slideshow": {
     "slide_type": "subslide"
    }
   },
   "source": [
    "###** grid methods (格子線法) **\n",
    "格子状に区切った代表点を複数取り、その中で最小値を計算する方法。\n",
    "\n",
    "####*メリット*\n",
    "\n",
    "1. 関数を等間隔に区切って代表点の評価と実装が簡単。\n",
    "\n",
    "####*デメリット*\n",
    "\n",
    "1. 多変数関数で計算量が爆発する。\n",
    "\n",
    "1. 適用する範囲が有限領域でなければいけない。\n",
    "\n",
    "####仲間\n",
    "simplex methodという仲間がいる。\n",
    "\n",
    "n次元上にn+1点を取った領域を作る。\n",
    "そのn+1点から最大のものを取り除き、残りのn点の位置情報から最大点の位置を新しく取り直すという方法。\n",
    "\n",
    "大域的な最小値を取ることができる。\n"
   ]
  },
  {
   "cell_type": "markdown",
   "metadata": {
    "slideshow": {
     "slide_type": "subslide"
    }
   },
   "source": [
    "###** gradient methods (勾配法) **\n",
    "関数の傾き(1次の偏微分)を用いて、関数の最小値を求める方法。\n",
    "偏微分の利用の仕方として、**最急降下法** や **ニュートン法** がその代表としてあげられる。\n",
    "\n",
    "ここではニュートン法について説明する。\n",
    "F(x)の最小値を探索する。\n",
    "\n",
    "F(x)を$x_0$の周りに展開する。\n",
    "\n",
    "$$ F(x) \\simeq F(x_0) + \\left. \\frac{\\partial F}{\\partial x} \\right|_{x_0} (x - x_0) $$\n",
    "\n",
    "これは多変数関数で次のように書くことができる。\n",
    "\n",
    "$$ \\bf{F(x) \\simeq F(x_0) + g^{T} (x - x_0) + \\frac{1}{2}(x - x_0)^{T} G (x - x_0) } $$\n",
    "\n",
    "ここで$g_i = \\partial F/\\partial x_i$, $G_{ij} = \\partial^2 F/\\partial x_i \\partial x_j$である。\n",
    "このとき、右辺が最小となるのは、\n",
    "\n",
    "ヘッセ行列が正定値でかつ対称行列であることから、\n",
    "\n",
    "$$ \\bf{x_{min} = x_0 - G^{-1}g} $$\n",
    "と導くことができる。\n",
    "このようにして得た$\\bf{x_{min}}$に対して、同様にテイラー展開から更なる最小値解の探索を続けていく。\n",
    "\n",
    "#### メリット\n",
    "1. 2次の偏微分から計算することができるので、強力な計算力。\n",
    "\n",
    "#### デメリット\n",
    "1. Gが正定値でなければならない。またGを毎回計算する必要があり、時間がかかる。\n",
    "\n",
    "解決策1: 負については正に転換する手法が開発されている。(quasi-Newton 法)\n",
    "\n",
    "解決策2: 隣のヘッセ行列の計算から次のヘッセ行列の計算を\"update\"する手法も開発されている。"
   ]
  },
  {
   "cell_type": "markdown",
   "metadata": {
    "slideshow": {
     "slide_type": "slide"
    }
   },
   "source": [
    "###ニュートン法を用いた最小二乗法の一般化\n",
    "ニュートン法を用いた最小二乗法の一般化を行っておく。\n",
    "Χスクエアを次のように書き換える。\n",
    "\n",
    "$$ S = \\sum_k s^2_k $$\n",
    "ここで、\n",
    "$$ s_k = \\frac{y_k - f(x_k)}{\\sigma_k} $$\n",
    "である。ヘッセ行列は、二次の項を落とした近似のもとで、\n",
    "$$ G_{ij} = \\frac{\\partial^2 S}{\\partial x_i \\partial x_j} = 2 \\sum_k \\left( \\frac{\\partial s_k}{\\partial x_i} \\frac{\\partial s_k}{\\partial x_j} + s_k \\frac{\\partial^2 s_k}{\\partial x_i \\partial x_j}\\right) \\simeq  2 \\sum_k \\frac{\\partial s_k}{\\partial x_i} \\frac{\\partial s_k}{\\partial x_j}$$\n",
    "と導くことができる。\n",
    "\n",
    "これらの強力なプログラムは、CERNの**Minuit**というライブラリに掲載されているとのこと。\n"
   ]
  },
  {
   "cell_type": "markdown",
   "metadata": {
    "slideshow": {
     "slide_type": "slide"
    }
   },
   "source": [
    "###誤差の評価\n",
    "一次のerror matrixを考えると、次のように分散を立式できる。\n",
    "\n",
    "$$ \\sigma^2 = \\left| \\frac{1}{2} \\frac{\\partial^2 S}{\\partial \\theta^2} \\right|^{-1} $$\n",
    "\n",
    "Sをテイラー展開すると、\n",
    "\n",
    "$$ S(\\theta) = S(\\theta^*) + \\frac{1}{2} \\frac{\\partial^2 S}{\\partial \\theta^2} (\\theta - \\theta^*)^2 = S(\\theta^*) + \\frac{1}{\\sigma^2} (\\theta - \\theta^*)^2  $$\n",
    "\n",
    "よって、\n",
    "\n",
    "$$ S(\\theta^* + \\sigma) = S(\\theta^*) + 1 $$\n",
    "となる\n",
    "S分布が1増加するところが標準偏差の誤差として、求めることができる。"
   ]
  },
  {
   "cell_type": "markdown",
   "metadata": {
    "collapsed": true,
    "slideshow": {
     "slide_type": "slide"
    }
   },
   "source": [
    "# 4.8 少数の丸め方\n",
    "誤差を2桁で丸め、それに合うように元の値も丸めるのが分かりやすい。"
   ]
  },
  {
   "cell_type": "markdown",
   "metadata": {
    "slideshow": {
     "slide_type": "slide"
    }
   },
   "source": [
    "# ありがとうございました。"
   ]
  }
 ],
 "metadata": {
  "celltoolbar": "Slideshow",
  "kernelspec": {
   "display_name": "Python 2",
   "language": "python",
   "name": "python2"
  },
  "language_info": {
   "codemirror_mode": {
    "name": "ipython",
    "version": 2
   },
   "file_extension": ".py",
   "mimetype": "text/x-python",
   "name": "python",
   "nbconvert_exporter": "python",
   "pygments_lexer": "ipython2",
   "version": "2.7.9"
  }
 },
 "nbformat": 4,
 "nbformat_minor": 0
}
